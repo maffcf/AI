{
  "nbformat": 4,
  "nbformat_minor": 0,
  "metadata": {
    "colab": {
      "name": "K-means.ipynb",
      "provenance": [],
      "authorship_tag": "ABX9TyNMil+F0rHO4cxSxZs+aS7x",
      "include_colab_link": true
    },
    "kernelspec": {
      "name": "python3",
      "display_name": "Python 3"
    },
    "language_info": {
      "name": "python"
    },
    "accelerator": "GPU"
  },
  "cells": [
    {
      "cell_type": "markdown",
      "metadata": {
        "id": "view-in-github",
        "colab_type": "text"
      },
      "source": [
        "<a href=\"https://colab.research.google.com/github/maffcf/AI/blob/main/K_means.ipynb\" target=\"_parent\"><img src=\"https://colab.research.google.com/assets/colab-badge.svg\" alt=\"Open In Colab\"/></a>"
      ]
    },
    {
      "cell_type": "code",
      "metadata": {
        "colab": {
          "base_uri": "https://localhost:8080/",
          "height": 337
        },
        "id": "u-5N__4dVAvo",
        "outputId": "fb73546d-5d3b-4f49-ad7f-2075d2c94a02"
      },
      "source": [
        "import numpy as np\n",
        "\n",
        "from sklearn.model_selection import train_test_split  \n",
        "from sklearn.cluster import KMeans \n",
        "from time import time \n",
        "import numpy as np \n",
        "import matplotlib.pyplot as plt\n",
        "from sklearn import metrics\n",
        "X= np.array([[1,1],[1.1,1.1],[1.2,1.2],\n",
        "[2,2], [2.1,2.1], [2.2,2.2]]) \n",
        "y=[1,1,1,0,0,0] \n",
        "kmeans = KMeans(n_clusters=2, random_state=0).fit(X) # \n",
        "print(\"集群中心的座標:\", kmeans.cluster_centers_) # \n",
        "print(\"預測:\", kmeans.predict(X)) #7 \n",
        "print(\"實際:\",y) # \n",
        "print(\"預測:[1,1],[2.3,2.1]:\", kmeans.predict([[1,1],[2.3, 2.1]]))\n",
        "\n",
        "\n",
        "plt.axis([0, 3, 0, 3]) # FEET \n",
        "plt.plot(X[:3,0], X[:3,1], 'yx') # 6 \n",
        "plt.plot(X[3:,0], X[3:,1], 'g.') # 6 \n",
        "plt.plot(kmeans.cluster_centers_[:,], kmeans.cluster_centers_[:,1], 'ro') #RETI \n",
        "plt.xticks(()) \n",
        "plt.yticks(()) \n",
        "plt.show()\n"
      ],
      "execution_count": 5,
      "outputs": [
        {
          "output_type": "stream",
          "text": [
            "集群中心的座標: [[2.1 2.1]\n",
            " [1.1 1.1]]\n",
            "預測: [1 1 1 0 0 0]\n",
            "實際: [1, 1, 1, 0, 0, 0]\n",
            "預測:[1,1],[2.3,2.1]: [1 0]\n"
          ],
          "name": "stdout"
        },
        {
          "output_type": "display_data",
          "data": {
            "image/png": "[encoded data removed]",
            "text/plain": [
              "<Figure size 432x288 with 1 Axes>"
            ]
          },
          "metadata": {
            "tags": []
          }
        }
      ]
    },
    {
      "cell_type": "code",
      "metadata": {
        "colab": {
          "base_uri": "https://localhost:8080/"
        },
        "id": "f-EoDeTyQ-Zi",
        "outputId": "4fddbc5b-7ca2-48bc-b61e-03da4d1a69c9"
      },
      "source": [
        "import matplotlib.pyplot as plt\n",
        "import numpy as np\n",
        "from sklearn import datasets\n",
        "from sklearn.model_selection import train_test_split\n",
        "from sklearn.cluster import KMeans\n",
        "from sklearn import metrics\n",
        "\n",
        "iris  = datasets.load_iris()\n",
        "\n",
        "iris_X_train,iris_X_test,iris_Y_train,iris_Y_test = train_test_split(iris.data,iris.target,test_size=0.2)\n",
        "\n",
        "kmeans = KMeans(n_clusters = 2)\n",
        "kmeans_fit = kmeans.fit(iris_X_train)\n",
        "\n",
        "print(\"實際\", iris_Y_train)\n",
        "print(\"預測\", kmeans_fit.labels_) \n",
        "\n",
        "iris_Y_train[iris_Y_train == 1] = 11 \n",
        "iris_Y_train[iris_Y_train == 0] = 1 \n",
        "iris_Y_train[iris_Y_train == 11] = 0\n",
        "print(\"調整\", iris_Y_train) \n",
        "score = metrics.accuracy_score(iris_Y_train, kmeans.predict(iris_X_train)) \n",
        "print('準確率:{0:f}'.format(score))\n"
      ],
      "execution_count": 6,
      "outputs": [
        {
          "output_type": "stream",
          "text": [
            "實際 [0 1 0 1 2 2 0 2 0 0 1 1 1 1 1 1 0 1 0 0 0 0 2 0 1 2 2 2 1 1 1 2 0 2 1 0 1\n",
            " 2 2 1 0 2 2 1 2 1 0 2 0 0 2 0 1 0 0 2 2 0 2 1 0 2 1 2 1 2 1 0 2 1 2 2 2 0\n",
            " 0 0 2 2 2 2 0 1 1 1 0 1 1 2 1 0 0 1 2 2 1 2 2 0 2 2 2 1 0 0 1 2 0 0 1 1 1\n",
            " 2 0 1 1 2 1 1 0 2]\n",
            "預測 [1 0 1 0 0 0 1 0 1 1 0 0 0 0 0 0 1 0 1 1 1 1 0 1 0 0 0 0 1 0 0 0 1 0 0 1 0\n",
            " 0 0 0 1 0 0 0 0 0 1 0 1 1 0 1 0 1 1 0 0 1 0 0 1 0 0 0 0 0 0 1 0 0 0 0 0 1\n",
            " 1 1 0 0 0 0 1 0 0 0 1 0 0 0 0 1 1 0 0 0 0 0 0 1 0 0 0 0 1 1 0 0 1 1 0 0 0\n",
            " 0 1 0 1 0 0 0 1 0]\n",
            "調整 [1 0 1 0 2 2 1 2 1 1 0 0 0 0 0 0 1 0 1 1 1 1 2 1 0 2 2 2 0 0 0 2 1 2 0 1 0\n",
            " 2 2 0 1 2 2 0 2 0 1 2 1 1 2 1 0 1 1 2 2 1 2 0 1 2 0 2 0 2 0 1 2 0 2 2 2 1\n",
            " 1 1 2 2 2 2 1 0 0 0 1 0 0 2 0 1 1 0 2 2 0 2 2 1 2 2 2 0 1 1 0 2 1 1 0 0 0\n",
            " 2 1 0 0 2 0 0 1 2]\n",
            "準確率:0.633333\n"
          ],
          "name": "stdout"
        }
      ]
    },
    {
      "cell_type": "code",
      "metadata": {
        "colab": {
          "base_uri": "https://localhost:8080/",
          "height": 268
        },
        "id": "uVtwe0z9U_Iq",
        "outputId": "4e62efdd-38af-43ae-aff1-de8c672188c9"
      },
      "source": [
        "import matplotlib.pyplot as plt \n",
        "import numpy as np \n",
        "from sklearn import datasets \n",
        "from sklearn.model_selection import train_test_split \n",
        "from sklearn.cluster import KMeans \n",
        "from sklearn import metrics\n",
        "iris = datasets.load_iris()\n",
        "iris_x_train , iris_x_test , iris_y_train , iris_y_test = train_test_split(iris.data, iris.target, test_size=0.2)\n",
        "kmeans = KMeans (n_clusters = 3) \n",
        "kmeans.fit(iris_x_train) \n",
        "y_predict=kmeans.predict(iris_x_train)\n",
        "x1=iris_X_train[:,0] \n",
        "y1=iris_X_train[:,1] \n",
        "plt.scatter(x1, y1, c=y_predict, cmap='viridis') \n",
        "\n",
        "centers = kmeans.cluster_centers_ \n",
        "plt.scatter(centers[:,0], centers[:, 1], c='black', s=200, alpha=0.5)\n",
        "plt.show() \n"
      ],
      "execution_count": 11,
      "outputs": [
        {
          "output_type": "display_data",
          "data": {
            "image/png": "[encoded data removed]",
            "text/plain": [
              "<Figure size 432x288 with 1 Axes>"
            ]
          },
          "metadata": {
            "tags": [],
            "needs_background": "light"
          }
        }
      ]
    }
  ]
}