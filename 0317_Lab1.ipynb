{
  "nbformat": 4,
  "nbformat_minor": 0,
  "metadata": {
    "kernelspec": {
      "display_name": "tf2",
      "language": "python",
      "name": "tf2"
    },
    "language_info": {
      "codemirror_mode": {
        "name": "ipython",
        "version": 3
      },
      "file_extension": ".py",
      "mimetype": "text/x-python",
      "name": "python",
      "nbconvert_exporter": "python",
      "pygments_lexer": "ipython3",
      "version": "3.7.7"
    },
    "colab": {
      "name": "0317_Lab1.ipynb",
      "provenance": [],
      "include_colab_link": true
    }
  },
  "cells": [
    {
      "cell_type": "markdown",
      "metadata": {
        "id": "view-in-github",
        "colab_type": "text"
      },
      "source": [
        "<a href=\"https://colab.research.google.com/github/maffcf/AI/blob/main/0317_Lab1.ipynb\" target=\"_parent\"><img src=\"https://colab.research.google.com/assets/colab-badge.svg\" alt=\"Open In Colab\"/></a>"
      ]
    },
    {
      "cell_type": "markdown",
      "metadata": {
        "id": "zgLkjUQIE6gw"
      },
      "source": [
        "# 林哲陞 TensorFlow 2.0 測試"
      ]
    },
    {
      "cell_type": "markdown",
      "metadata": {
        "id": "zIj8bLvmE6g1"
      },
      "source": [
        "<table class=\"tfo-notebook-buttons\" align=\"left\">\n",
        "  <td>\n",
        "    <a target=\"_blank\" href=\"https://colab.research.google.com/github/taipeitechmmslab/MMSLAB-TF2/blob/master/Lab1.ipynb\"><img src=\"https://www.tensorflow.org/images/colab_logo_32px.png\" />Run in Google Colab</a>\n",
        "  </td>\n",
        "  <td>\n",
        "    <a target=\"_blank\" href=\"https://github.com/taipeitechmmslab/MMSLAB-TF2/blob/master/Lab1.ipynb\"><img src=\"https://www.tensorflow.org/images/GitHub-Mark-32px.png\" />View source on GitHub</a>\n",
        "  </td>\n",
        "</table>"
      ]
    },
    {
      "cell_type": "code",
      "metadata": {
        "id": "_JA8knDEE6g2"
      },
      "source": [
        "import tensorflow as tf"
      ],
      "execution_count": 1,
      "outputs": []
    },
    {
      "cell_type": "markdown",
      "metadata": {
        "id": "J7xBfx3VE6g2"
      },
      "source": [
        "TensorFlow 的基本型態："
      ]
    },
    {
      "cell_type": "code",
      "metadata": {
        "scrolled": true,
        "id": "ZTGS4pOzE6g2",
        "colab": {
          "base_uri": "https://localhost:8080/"
        },
        "outputId": "27f92414-3165-43a4-d94d-6e47b03d862d"
      },
      "source": [
        "# 產生一個常數\n",
        "c = tf.constant(1)\n",
        "# 產生一個變數\n",
        "v = tf.Variable(1)\n",
        "print(c)\n",
        "print(v)"
      ],
      "execution_count": 2,
      "outputs": [
        {
          "output_type": "stream",
          "text": [
            "tf.Tensor(1, shape=(), dtype=int32)\n",
            "<tf.Variable 'Variable:0' shape=() dtype=int32, numpy=1>\n"
          ],
          "name": "stdout"
        }
      ]
    },
    {
      "cell_type": "markdown",
      "metadata": {
        "id": "5r10KBULE6g3"
      },
      "source": [
        "零階張量稱為標量。"
      ]
    },
    {
      "cell_type": "code",
      "metadata": {
        "id": "b8HeYmivE6g3",
        "colab": {
          "base_uri": "https://localhost:8080/"
        },
        "outputId": "59538ccf-1243-4b0a-e2a5-ed31c01f681e"
      },
      "source": [
        "import tensorflow as tf\n",
        "x = tf.constant(4)\n",
        "print(x)  # 顯示Tensor 常數資訊，Shape=()表示標量，dtype=int32 表示整數\n",
        "print(\"{} 階Tensor\".format(x.ndim))  # 顯示Tensor 的維度"
      ],
      "execution_count": 3,
      "outputs": [
        {
          "output_type": "stream",
          "text": [
            "tf.Tensor(4, shape=(), dtype=int32)\n",
            "0 階Tensor\n"
          ],
          "name": "stdout"
        }
      ]
    },
    {
      "cell_type": "markdown",
      "metadata": {
        "id": "MY8pQm7TE6g4"
      },
      "source": [
        "一階張量稱為向量。"
      ]
    },
    {
      "cell_type": "code",
      "metadata": {
        "id": "hkj3NZsXE6g4",
        "colab": {
          "base_uri": "https://localhost:8080/"
        },
        "outputId": "92a26569-ca82-42bc-f275-b04f2b43931c"
      },
      "source": [
        "x = tf.constant([1, 2, 3, 4, 5, 6]) \n",
        "print(\"{}階Tensor \".format(x.ndim))    # 顯示Tensor的維度"
      ],
      "execution_count": 4,
      "outputs": [
        {
          "output_type": "stream",
          "text": [
            "1階Tensor \n"
          ],
          "name": "stdout"
        }
      ]
    },
    {
      "cell_type": "markdown",
      "metadata": {
        "id": "YrgZm4hUE6g4"
      },
      "source": [
        "二階張量稱為矩陣。"
      ]
    },
    {
      "cell_type": "code",
      "metadata": {
        "id": "7YkJWiowE6g4",
        "colab": {
          "base_uri": "https://localhost:8080/"
        },
        "outputId": "27479b56-fb31-4f68-c369-c0e3afeb0314"
      },
      "source": [
        "x = tf.constant([[1, 2, 3], [4, 5, 6]])\n",
        "print(\"{}階Tensor \".format(x.ndim))    # 顯示Tensor的維度"
      ],
      "execution_count": 5,
      "outputs": [
        {
          "output_type": "stream",
          "text": [
            "2階Tensor \n"
          ],
          "name": "stdout"
        }
      ]
    },
    {
      "cell_type": "markdown",
      "metadata": {
        "id": "v3qei3fuE6g5"
      },
      "source": [
        "---\n",
        "## Eager Execution\n",
        "\n",
        "\n",
        "TensorFlow 引入了「Eager Execution」動態圖模式，這個模式在TensorFlow2.0為預設模式，不同與以往的靜態圖模式需要建立計算圖才能執行，Eager Execution模式一旦執行就會返回數值。這使TensorFlow 更容易入門，也使研發更直觀。\n",
        "\n",
        "**Eager Execution 的優點如下：**\n",
        "\n",
        "- 立即返回數值，方便除錯。\n",
        "- 無需 Session.run() 就可以把它們的值返回到 Python。\n",
        "- 為自定義和高階梯度提供強大支援。\n",
        "- 幾乎所有 TensorFlow 運算都適用。\n",
        "\n",
        "\n",
        "**TensorFlow 1.x 和 TensorFlow2.0比較：**\n",
        "```\n",
        "TensorFlow 1.x code:\n",
        ">>> a = tf.constant(1)\n",
        ">>> print(a)\n",
        "Tensor(\"Const_5:0\", shape=(), dtype=int32)\n",
        "\n",
        ">>> sess = tf.Session()\n",
        ">>> print(\"a = {}\".format(sess.run(a)))\n",
        "a = 1\n",
        "\n",
        "\n",
        "TensorFlow 2.0 code:\n",
        ">>> a = tf.constant(1)\n",
        ">>> print(a)\n",
        "tf.Tensor(1, shape=(), dtype=int32)\n",
        "```"
      ]
    },
    {
      "cell_type": "markdown",
      "metadata": {
        "id": "A5IqQCH8E6g5"
      },
      "source": [
        "**TensorFlow 基本運算：**\n",
        "\n",
        "Import 必要套件"
      ]
    },
    {
      "cell_type": "code",
      "metadata": {
        "id": "HtXTvF8gE6g5",
        "colab": {
          "base_uri": "https://localhost:8080/"
        },
        "outputId": "d2ec0ef3-72ee-4565-d6c4-503e3fa0a186"
      },
      "source": [
        "import numpy as np\n",
        "import tensorflow as tf\n",
        "\n",
        "print(\"Eager Execution 是否啟動: {}\".format(tf.executing_eagerly()))"
      ],
      "execution_count": 6,
      "outputs": [
        {
          "output_type": "stream",
          "text": [
            "Eager Execution 是否啟動: True\n"
          ],
          "name": "stdout"
        }
      ]
    },
    {
      "cell_type": "markdown",
      "metadata": {
        "id": "NisFXHd1E6g5"
      },
      "source": [
        "定義常數 Tensor"
      ]
    },
    {
      "cell_type": "code",
      "metadata": {
        "id": "WjY8xz5kE6g6",
        "colab": {
          "base_uri": "https://localhost:8080/"
        },
        "outputId": "33f2ccf3-7453-46b1-e9ca-c0a09c5ae435"
      },
      "source": [
        "a = tf.constant(3)\n",
        "b = tf.constant(4)\n",
        "print(\"a = {}\".format(a))\n",
        "print(\"b = {}\".format(b))"
      ],
      "execution_count": 7,
      "outputs": [
        {
          "output_type": "stream",
          "text": [
            "a = 3\n",
            "b = 4\n"
          ],
          "name": "stdout"
        }
      ]
    },
    {
      "cell_type": "markdown",
      "metadata": {
        "id": "r2bbShjUE6g6"
      },
      "source": [
        "檢查資料型態"
      ]
    },
    {
      "cell_type": "code",
      "metadata": {
        "id": "toC96o7ZE6g6",
        "colab": {
          "base_uri": "https://localhost:8080/"
        },
        "outputId": "0ee8c027-bff9-4c2d-b21f-0286c8eeb391"
      },
      "source": [
        "print(a)\n",
        "print(b)"
      ],
      "execution_count": 8,
      "outputs": [
        {
          "output_type": "stream",
          "text": [
            "tf.Tensor(3, shape=(), dtype=int32)\n",
            "tf.Tensor(4, shape=(), dtype=int32)\n"
          ],
          "name": "stdout"
        }
      ]
    },
    {
      "cell_type": "markdown",
      "metadata": {
        "id": "ZR56d8piE6g6"
      },
      "source": [
        "基本的運算"
      ]
    },
    {
      "cell_type": "code",
      "metadata": {
        "id": "Jvm63ivqE6g6",
        "colab": {
          "base_uri": "https://localhost:8080/"
        },
        "outputId": "cb3e4425-e96e-42db-a785-cfa3affb8b9b"
      },
      "source": [
        "c = a + b\n",
        "print(\"a + b = {}\".format(c))\n",
        "d = a * b\n",
        "print(\"a * b = {}\".format(d))"
      ],
      "execution_count": 9,
      "outputs": [
        {
          "output_type": "stream",
          "text": [
            "a + b = 7\n",
            "a * b = 12\n"
          ],
          "name": "stdout"
        }
      ]
    },
    {
      "cell_type": "markdown",
      "metadata": {
        "id": "VRvvTkc8E6g7"
      },
      "source": [
        "2D Tensor 的運算，在Eager Execution模式下可以混和 Tensor 和 Numpy 做運算"
      ]
    },
    {
      "cell_type": "code",
      "metadata": {
        "id": "m2PlHoi-E6g7",
        "colab": {
          "base_uri": "https://localhost:8080/"
        },
        "outputId": "7c703210-5cec-4572-d751-729184c4e1c3"
      },
      "source": [
        "a = tf.constant([[1., 2.], [3., 4.]], dtype=tf.float32)\n",
        "b = np.array([[1., 0.], [2., 3.]], dtype=np.float32)\n",
        "print(\"a constant: {}D Tensor\".format(a.ndim))\n",
        "\n",
        "c = a + b\n",
        "print(\"a + b = \\n{}\".format(c))\n",
        "d = tf.matmul(a, b)\n",
        "print(\"a * b = \\n{}\".format(d))"
      ],
      "execution_count": 10,
      "outputs": [
        {
          "output_type": "stream",
          "text": [
            "a constant: 2D Tensor\n",
            "a + b = \n",
            "[[2. 2.]\n",
            " [5. 7.]]\n",
            "a * b = \n",
            "[[ 5.  6.]\n",
            " [11. 12.]]\n"
          ],
          "name": "stdout"
        }
      ]
    },
    {
      "cell_type": "markdown",
      "metadata": {
        "id": "2kXQWSncE6g7"
      },
      "source": [
        "輸出的結果為 Tensor 格式，我們可以將它轉為 Numpy 格式"
      ]
    },
    {
      "cell_type": "code",
      "metadata": {
        "id": "IrM03K2oE6g7",
        "colab": {
          "base_uri": "https://localhost:8080/"
        },
        "outputId": "bd201186-d01c-442c-a856-0ac6858680c9"
      },
      "source": [
        "print(c)\n",
        "print(\"NumpyArray:\\n {}\".format(c.numpy()))"
      ],
      "execution_count": 11,
      "outputs": [
        {
          "output_type": "stream",
          "text": [
            "tf.Tensor(\n",
            "[[2. 2.]\n",
            " [5. 7.]], shape=(2, 2), dtype=float32)\n",
            "NumpyArray:\n",
            " [[2. 2.]\n",
            " [5. 7.]]\n"
          ],
          "name": "stdout"
        }
      ]
    },
    {
      "cell_type": "markdown",
      "metadata": {
        "id": "vdVrx02nE6g7"
      },
      "source": [
        "計算梯度"
      ]
    },
    {
      "cell_type": "code",
      "metadata": {
        "id": "XsacEmtJE6g8",
        "colab": {
          "base_uri": "https://localhost:8080/"
        },
        "outputId": "6599f473-3354-4824-856b-74474419bce7"
      },
      "source": [
        "w = tf.Variable([[1.0]])\n",
        "with tf.GradientTape() as tape:\n",
        "    loss = w * w\n",
        "\n",
        "grad = tape.gradient(loss, w)\n",
        "print(grad)"
      ],
      "execution_count": 12,
      "outputs": [
        {
          "output_type": "stream",
          "text": [
            "tf.Tensor([[2.]], shape=(1, 1), dtype=float32)\n"
          ],
          "name": "stdout"
        }
      ]
    },
    {
      "cell_type": "markdown",
      "metadata": {
        "id": "NHNsPf9IE6g8"
      },
      "source": [
        "---\n",
        "## Keras\n",
        "\n",
        "TensorFlow2.0將Keras納為內建高階API，因此不必再而外安裝keras套件，直接透過`tf.keras`指令使用。相較於`tf.keras`和`keras`的差別，`tf.keras`更能全面支援tensorflow的指令與模式，例如支援Eager Exection, tf.data, TPU訓練等等。\n",
        "\n",
        "下面將會介紹兩種最常使用的網路搭建方法：\n",
        "- Sequential Model (序列模型)\n",
        "- Function API (函數式模型)"
      ]
    },
    {
      "cell_type": "markdown",
      "metadata": {
        "id": "GnxoQXNuE6g8"
      },
      "source": [
        "### Import 必要套件"
      ]
    },
    {
      "cell_type": "code",
      "metadata": {
        "id": "hpIjG6m1E6g8"
      },
      "source": [
        "import tensorflow as tf\n",
        "from tensorflow import keras\n",
        "from tensorflow.keras import layers\n",
        "from tensorflow.keras.utils import plot_model\n",
        "from IPython.display import Image"
      ],
      "execution_count": 35,
      "outputs": []
    },
    {
      "cell_type": "markdown",
      "metadata": {
        "id": "LbbjMUIoE6g8"
      },
      "source": [
        "### Sequential Model\n",
        "\n",
        "Sequential Model有兩種方法搭建，下面為分類問題範例：輸入為28x28 (拉平為784的一維向量)的影像，輸出為10 (分為十個類別)。\n",
        "\n",
        "**Ex1：**"
      ]
    },
    {
      "cell_type": "code",
      "metadata": {
        "id": "00E0U3LCE6g9"
      },
      "source": [
        "model = keras.Sequential(name='Sequential')\n",
        "model.add(layers.Dense(64, activation='relu', input_shape=(784,)))\n",
        "model.add(layers.Dense(64, activation='relu'))\n",
        "model.add(layers.Dense(10, activation='softmax'))"
      ],
      "execution_count": 57,
      "outputs": []
    },
    {
      "cell_type": "markdown",
      "metadata": {
        "id": "ZCDGFPeLE6g9"
      },
      "source": [
        "**Ex2：**"
      ]
    },
    {
      "cell_type": "code",
      "metadata": {
        "id": "JpDaVWkZE6g9"
      },
      "source": [
        "model = tf.keras.Sequential([layers.Dense(64, activation='relu', input_shape=(784,)),\n",
        "                             layers.Dense(64, activation='relu'), \n",
        "                             layers.Dense(10, activation='softmax')])"
      ],
      "execution_count": 37,
      "outputs": []
    },
    {
      "cell_type": "markdown",
      "metadata": {
        "id": "2IJQ1ynKE6g9"
      },
      "source": [
        "顯示出剛剛搭建的網路"
      ]
    },
    {
      "cell_type": "code",
      "metadata": {
        "id": "xLNC1brgE6g9",
        "colab": {
          "base_uri": "https://localhost:8080/",
          "height": 369
        },
        "outputId": "59f47cb4-4180-4928-b1e2-3dd64181acea"
      },
      "source": [
        "# 產生網絡拓撲圖\n",
        "plot_model(model, to_file='Sequential_Model.png')\n",
        "\n",
        "# 秀出網絡拓撲圖\n",
        "Image('Sequential_Model.png')"
      ],
      "execution_count": 38,
      "outputs": [
        {
          "output_type": "execute_result",
          "data": {
            "image/png": "[encoded data removed]",
            "text/plain": [
              "<IPython.core.display.Image object>"
            ]
          },
          "metadata": {
            "tags": []
          },
          "execution_count": 38
        }
      ]
    },
    {
      "cell_type": "markdown",
      "metadata": {
        "id": "Wu5a5pb7E6g9"
      },
      "source": [
        "### Functional API\n",
        "**1. Sample Network：**使用Functional API 一樣可以快速幾行代碼完成和上面Sequential Model 相同的架構。"
      ]
    },
    {
      "cell_type": "code",
      "metadata": {
        "id": "oylvux-QE6g-",
        "colab": {
          "base_uri": "https://localhost:8080/",
          "height": 369
        },
        "outputId": "849b279c-5115-46ca-d182-c6bb30067f1a"
      },
      "source": [
        "inputs = keras.Input(shape=(784,), name='Input')\n",
        "hidden1 = layers.Dense(64, activation='relu', name='hidden1')(inputs)\n",
        "hidden2 = layers.Dense(64, activation='relu', name='hidden2')(hidden1)\n",
        "outputs = layers.Dense(10, activation='softmax', name='Output')(hidden2)\n",
        "\n",
        "model = keras.Model(inputs=inputs, outputs=outputs)\n",
        "\n",
        "# 產生網絡拓撲圖\n",
        "plot_model(model, to_file='Functional_API_Sample_Model.png')\n",
        "\n",
        "# 秀出網絡拓撲圖\n",
        "Image('Functional_API_Sample_Model.png')"
      ],
      "execution_count": 58,
      "outputs": [
        {
          "output_type": "execute_result",
          "data": {
            "image/png": "[encoded data removed]",
            "text/plain": [
              "<IPython.core.display.Image object>"
            ]
          },
          "metadata": {
            "tags": []
          },
          "execution_count": 58
        }
      ]
    },
    {
      "cell_type": "markdown",
      "metadata": {
        "id": "v3uJ4yj3E6g-"
      },
      "source": [
        "**Multi Input Model：**多輸入單輸出模型，下面的範例為商品價格預測，要預測商品價格，我們需要商品照片、品牌、使用狀況等等。而商品圖片和品牌我們可以經過不同層輸入並做不同的處理，網路架構如下。"
      ]
    },
    {
      "cell_type": "code",
      "metadata": {
        "id": "rtybruAKE6g-",
        "colab": {
          "base_uri": "https://localhost:8080/",
          "height": 661
        },
        "outputId": "319b5e66-513c-4257-ea24-80c2253c82e7"
      },
      "source": [
        "img_input = keras.Input(shape=(28, 28, 1), name='Image_Input')\n",
        "info_input = keras.Input(shape=(1, ), name='Information_Input')\n",
        "\n",
        "hidden1_1 = layers.Conv2D(64, kernel_size=5, strides=2, activation='relu', name='hidden1_1')(img_input)\n",
        "hidden1_2 = layers.Conv2D(32, kernel_size=5, strides=2, activation='relu', name='hidden1_2')(hidden1_1)\n",
        "hidden1_2_ft= layers.Flatten()(hidden1_2)\n",
        "hidden1_3 = layers.Dense(64, activation='relu', name='hidden1_3')(info_input)\n",
        "concat = layers.Concatenate()([hidden1_2_ft, hidden1_3])\n",
        "hidden2 = layers.Dense(64, activation='relu', name='hidden2')(concat)\n",
        "outputs = layers.Dense(1, name='Output')(hidden2)\n",
        "\n",
        "model = keras.Model(inputs=[img_input, info_input], outputs=outputs)\n",
        "\n",
        "# 產生網絡拓撲圖\n",
        "plot_model(model, to_file='Functional_API_Multi_Input_Model.png')\n",
        "\n",
        "# 秀出網絡拓撲圖\n",
        "Image('Functional_API_Multi_Input_Model.png')"
      ],
      "execution_count": 59,
      "outputs": [
        {
          "output_type": "execute_result",
          "data": {
            "image/png": "[encoded data removed]",
            "text/plain": [
              "<IPython.core.display.Image object>"
            ]
          },
          "metadata": {
            "tags": []
          },
          "execution_count": 59
        }
      ]
    },
    {
      "cell_type": "markdown",
      "metadata": {
        "id": "0VlIAL9nE6g-"
      },
      "source": [
        "**Multi Output Network：**單輸入多輸出模型，這種類型的架構在影響處理的領域很長看到，下面舉幾個常見多輸出模型應用例子。\n",
        "\n",
        "- 物件偵測：輸入一張圖像，預測物件位置與物件類別等。\n",
        "- 人像識別：輸入一張圖像，預測圖片中人的性別、年齡等。"
      ]
    },
    {
      "cell_type": "code",
      "metadata": {
        "id": "UNjaBNWbE6g-",
        "colab": {
          "base_uri": "https://localhost:8080/",
          "height": 564
        },
        "outputId": "8a252f91-428f-4030-dd15-6c34f82b986a"
      },
      "source": [
        "inputs = keras.Input(shape=(28, 28, 1), name='Input')\n",
        "\n",
        "hidden1 = layers.Conv2D(64, kernel_size=3, activation='relu', name='hidden1')(inputs)\n",
        "hidden2 = layers.Conv2D(64, kernel_size=3, strides=2, activation='relu', name='hidden2')(hidden1)\n",
        "hidden3 = layers.Conv2D(64, kernel_size=3, strides=2, activation='relu', name='hidden3')(hidden2)\n",
        "flatten = layers.Flatten()(hidden3)\n",
        "\n",
        "age_output = layers.Dense(1, name='Age_Output')(flatten)\n",
        "gender_output = layers.Dense(1, name='Gender_Output')(flatten)\n",
        "\n",
        "model = keras.Model(inputs=inputs, outputs=[age_output, gender_output])\n",
        "\n",
        "# 產生網絡拓撲圖\n",
        "plot_model(model, to_file='Functional_API_Multi_Output_Model.png')\n",
        "\n",
        "# 秀出網絡拓撲圖\n",
        "Image('Functional_API_Multi_Output_Model.png')"
      ],
      "execution_count": 41,
      "outputs": [
        {
          "output_type": "execute_result",
          "data": {
            "image/png": "[encoded data removed]",
            "text/plain": [
              "<IPython.core.display.Image object>"
            ]
          },
          "metadata": {
            "tags": []
          },
          "execution_count": 41
        }
      ]
    },
    {
      "cell_type": "markdown",
      "metadata": {
        "id": "Yt2LzKfoE6g_"
      },
      "source": [
        "**Multi Input and Multi Output Network：**多輸入多輸出模型，例如天氣預測，輸入可能為當前的天氣資訊和衛星雲圖，而輸出就是降雨機率、溫度和濕度等。"
      ]
    },
    {
      "cell_type": "code",
      "metadata": {
        "id": "OfAo2gTSE6g_",
        "colab": {
          "base_uri": "https://localhost:8080/",
          "height": 661
        },
        "outputId": "bd00aac1-a19d-48b4-d393-a7674e9ebe2e"
      },
      "source": [
        "image_inputs = keras.Input(shape=(28, 28, 1), name='Image_Input')\n",
        "hidden1 = layers.Conv2D(64, kernel_size=3, activation='relu', name='hidden1')(image_inputs)\n",
        "hidden2 = layers.Conv2D(64, kernel_size=3, strides=2, activation='relu', name='hidden2')(hidden1)\n",
        "hidden3 = layers.Conv2D(64, kernel_size=3, strides=2, activation='relu', name='hidden3')(hidden2)\n",
        "flatten = layers.Flatten()(hidden3)\n",
        "\n",
        "info_inputs = keras.Input(shape=(10, ), name='Info_Input')\n",
        "hidden4 = layers.Dense(64)(info_inputs)\n",
        "\n",
        "concat = layers.Concatenate()([flatten, hidden4])\n",
        "\n",
        "weather_outputs = layers.Dense(1, name='Output1')(concat)\n",
        "temp_outputs = layers.Dense(1, name='Output2')(concat)\n",
        "humidity_outputs = layers.Dense(1, name='Output3')(concat)\n",
        "\n",
        "model = keras.Model(inputs=[image_inputs, info_inputs], \n",
        "                    outputs=[weather_outputs, temp_outputs, humidity_outputs])\n",
        "\n",
        "# 產生網絡拓撲圖\n",
        "plot_model(model, to_file='Functional_API_Multi_Input_Multi_Output_Model.png')\n",
        "\n",
        "# 秀出網絡拓撲圖\n",
        "Image('Functional_API_Multi_Input_Multi_Output_Model.png')"
      ],
      "execution_count": 42,
      "outputs": [
        {
          "output_type": "execute_result",
          "data": {
            "image/png": "[encoded data removed]",
            "text/plain": [
              "<IPython.core.display.Image object>"
            ]
          },
          "metadata": {
            "tags": []
          },
          "execution_count": 42
        }
      ]
    },
    {
      "cell_type": "markdown",
      "metadata": {
        "id": "JuOhhaMsE6g_"
      },
      "source": [
        "---\n",
        "## tf.data"
      ]
    },
    {
      "cell_type": "markdown",
      "metadata": {
        "id": "SYeb-J50E6hA"
      },
      "source": [
        "### 基本操作"
      ]
    },
    {
      "cell_type": "markdown",
      "metadata": {
        "id": "nXcGqCPEE6hA"
      },
      "source": [
        "1.`tf.data.Dataset.from_tensors`"
      ]
    },
    {
      "cell_type": "code",
      "metadata": {
        "id": "s8_d_M0hE6hA",
        "colab": {
          "base_uri": "https://localhost:8080/"
        },
        "outputId": "94e84870-9582-4156-a2aa-9e36944f9599"
      },
      "source": [
        "dataset = tf.data.Dataset.from_tensors(tf.constant([1, 2, 3, 4, 5, 6, 7, 8, 9, 10], shape=(10, )))\n",
        "print(dataset)"
      ],
      "execution_count": 60,
      "outputs": [
        {
          "output_type": "stream",
          "text": [
            "<TensorDataset shapes: (10,), types: tf.int32>\n"
          ],
          "name": "stdout"
        }
      ]
    },
    {
      "cell_type": "markdown",
      "metadata": {
        "id": "DLbmq74pE6hA"
      },
      "source": [
        "2.`tf.data.Dataset.from_tensor_slices`"
      ]
    },
    {
      "cell_type": "code",
      "metadata": {
        "id": "B90QxED1E6hA",
        "colab": {
          "base_uri": "https://localhost:8080/"
        },
        "outputId": "a55b38f5-a1de-491e-967f-ffaa39a2e7ee"
      },
      "source": [
        "x_data = tf.data.Dataset.from_tensor_slices(tf.constant([0, 1, 2, 3, 4, 5, 6, 7, 8, 9], shape=(10, )))\n",
        "print(x_data)\n",
        "\n",
        "y_data = tf.data.Dataset.from_tensor_slices(tf.constant([0, 2, 4, 6, 8, 10, 12, 14, 16, 18], shape=(10, )))\n",
        "print(y_data)"
      ],
      "execution_count": 61,
      "outputs": [
        {
          "output_type": "stream",
          "text": [
            "<TensorSliceDataset shapes: (), types: tf.int32>\n",
            "<TensorSliceDataset shapes: (), types: tf.int32>\n"
          ],
          "name": "stdout"
        }
      ]
    },
    {
      "cell_type": "markdown",
      "metadata": {
        "id": "Z_F9cij2E6hB"
      },
      "source": [
        "3.`for loop`讀取數據："
      ]
    },
    {
      "cell_type": "code",
      "metadata": {
        "id": "c4nl4FTzE6hB",
        "colab": {
          "base_uri": "https://localhost:8080/"
        },
        "outputId": "e2a4717d-b3d3-4f59-9c0c-26fa2689f4f7"
      },
      "source": [
        "for data in dataset:\n",
        "    print(data)"
      ],
      "execution_count": 62,
      "outputs": [
        {
          "output_type": "stream",
          "text": [
            "tf.Tensor([ 1  2  3  4  5  6  7  8  9 10], shape=(10,), dtype=int32)\n"
          ],
          "name": "stdout"
        }
      ]
    },
    {
      "cell_type": "code",
      "metadata": {
        "id": "e4e132cQE6hB",
        "colab": {
          "base_uri": "https://localhost:8080/"
        },
        "outputId": "56d74d0a-10ec-4ba0-dbe0-c9bda8fe4158"
      },
      "source": [
        "for data1, data2 in zip(x_data, y_data):\n",
        "    print('x: {}, y: {}'.format(data1, data2))"
      ],
      "execution_count": 63,
      "outputs": [
        {
          "output_type": "stream",
          "text": [
            "x: 0, y: 0\n",
            "x: 1, y: 2\n",
            "x: 2, y: 4\n",
            "x: 3, y: 6\n",
            "x: 4, y: 8\n",
            "x: 5, y: 10\n",
            "x: 6, y: 12\n",
            "x: 7, y: 14\n",
            "x: 8, y: 16\n",
            "x: 9, y: 18\n"
          ],
          "name": "stdout"
        }
      ]
    },
    {
      "cell_type": "markdown",
      "metadata": {
        "id": "JUikgPJGE6hB"
      },
      "source": [
        "3.`take`：讀取資料"
      ]
    },
    {
      "cell_type": "code",
      "metadata": {
        "id": "LiwDvyKXE6hC",
        "colab": {
          "base_uri": "https://localhost:8080/"
        },
        "outputId": "2297a3ae-b10c-43d5-bbd0-93363f090409"
      },
      "source": [
        "for data in dataset:\n",
        "    print(data)"
      ],
      "execution_count": 64,
      "outputs": [
        {
          "output_type": "stream",
          "text": [
            "tf.Tensor([ 1  2  3  4  5  6  7  8  9 10], shape=(10,), dtype=int32)\n"
          ],
          "name": "stdout"
        }
      ]
    },
    {
      "cell_type": "code",
      "metadata": {
        "id": "8CdZfAJBE6hC",
        "colab": {
          "base_uri": "https://localhost:8080/"
        },
        "outputId": "6740f0e5-27ec-4ada-9aa4-82e953a54d76"
      },
      "source": [
        "for data1, data2 in zip(x_data.take(5), y_data.take(5)):\n",
        "    print('x: {}, y: {}'.format(data1, data2))"
      ],
      "execution_count": 65,
      "outputs": [
        {
          "output_type": "stream",
          "text": [
            "x: 0, y: 0\n",
            "x: 1, y: 2\n",
            "x: 2, y: 4\n",
            "x: 3, y: 6\n",
            "x: 4, y: 8\n"
          ],
          "name": "stdout"
        }
      ]
    },
    {
      "cell_type": "code",
      "metadata": {
        "id": "QWPfJ7GuE6hC",
        "colab": {
          "base_uri": "https://localhost:8080/"
        },
        "outputId": "3ae3b66b-04fa-4981-99fc-aabba07d5bce"
      },
      "source": [
        "for data1, data2 in zip(x_data.take(12), y_data.take(12)):\n",
        "    print('x: {}, y: {}'.format(data1, data2))"
      ],
      "execution_count": 66,
      "outputs": [
        {
          "output_type": "stream",
          "text": [
            "x: 0, y: 0\n",
            "x: 1, y: 2\n",
            "x: 2, y: 4\n",
            "x: 3, y: 6\n",
            "x: 4, y: 8\n",
            "x: 5, y: 10\n",
            "x: 6, y: 12\n",
            "x: 7, y: 14\n",
            "x: 8, y: 16\n",
            "x: 9, y: 18\n"
          ],
          "name": "stdout"
        }
      ]
    },
    {
      "cell_type": "markdown",
      "metadata": {
        "id": "idSuDndOE6hC"
      },
      "source": [
        "5.`tf.data.Dataset.zip`"
      ]
    },
    {
      "cell_type": "code",
      "metadata": {
        "id": "8l5PV63WE6hD",
        "colab": {
          "base_uri": "https://localhost:8080/"
        },
        "outputId": "0ed40bee-0b92-49ec-e138-7fb5b7b0ba49"
      },
      "source": [
        "dataset = tf.data.Dataset.zip((x_data, y_data))\n",
        "print(dataset)"
      ],
      "execution_count": 67,
      "outputs": [
        {
          "output_type": "stream",
          "text": [
            "<ZipDataset shapes: ((), ()), types: (tf.int32, tf.int32)>\n"
          ],
          "name": "stdout"
        }
      ]
    },
    {
      "cell_type": "markdown",
      "metadata": {
        "id": "Cdn7ad2lE6hD"
      },
      "source": [
        "6.`map`：可以使用map來轉換數據"
      ]
    },
    {
      "cell_type": "code",
      "metadata": {
        "id": "Z7LEogeZE6hD",
        "colab": {
          "base_uri": "https://localhost:8080/"
        },
        "outputId": "85dcff85-347d-4a61-c99e-d7b3ddcabc7a"
      },
      "source": [
        "tf.data.Dataset.range(10).map(lambda x: x*2)"
      ],
      "execution_count": 68,
      "outputs": [
        {
          "output_type": "execute_result",
          "data": {
            "text/plain": [
              "<MapDataset shapes: (), types: tf.int64>"
            ]
          },
          "metadata": {
            "tags": []
          },
          "execution_count": 68
        }
      ]
    },
    {
      "cell_type": "markdown",
      "metadata": {
        "id": "Rei_MmNFE6hD"
      },
      "source": [
        "7.命名：可以字典方式為elements的組件命名"
      ]
    },
    {
      "cell_type": "code",
      "metadata": {
        "id": "gQCesKU0E6hD",
        "colab": {
          "base_uri": "https://localhost:8080/"
        },
        "outputId": "4f57fdfa-4225-45c1-da28-fc28e94861bd"
      },
      "source": [
        "x = tf.data.Dataset.range(10)\n",
        "y = tf.data.Dataset.range(10).map(lambda x: x*2)\n",
        "\n",
        "dataset = tf.data.Dataset.zip({\"x\": x, \"y\": y})\n",
        "print(dataset)"
      ],
      "execution_count": 69,
      "outputs": [
        {
          "output_type": "stream",
          "text": [
            "<ZipDataset shapes: {x: (), y: ()}, types: {x: tf.int64, y: tf.int64}>\n"
          ],
          "name": "stdout"
        }
      ]
    },
    {
      "cell_type": "code",
      "metadata": {
        "id": "C5SfJT8HE6hD",
        "colab": {
          "base_uri": "https://localhost:8080/"
        },
        "outputId": "ce111df1-04cc-47e0-f272-9ba2edd452ab"
      },
      "source": [
        "for data in dataset.take(10):\n",
        "    print('x: {}, y: {}'.format(data['x'], data['y']))"
      ],
      "execution_count": 70,
      "outputs": [
        {
          "output_type": "stream",
          "text": [
            "x: 0, y: 0\n",
            "x: 1, y: 2\n",
            "x: 2, y: 4\n",
            "x: 3, y: 6\n",
            "x: 4, y: 8\n",
            "x: 5, y: 10\n",
            "x: 6, y: 12\n",
            "x: 7, y: 14\n",
            "x: 8, y: 16\n",
            "x: 9, y: 18\n"
          ],
          "name": "stdout"
        }
      ]
    },
    {
      "cell_type": "markdown",
      "metadata": {
        "id": "gNRpRyFvE6hE"
      },
      "source": [
        "8.設定每batch讀取的數量"
      ]
    },
    {
      "cell_type": "code",
      "metadata": {
        "id": "Qt78J76IE6hE",
        "colab": {
          "base_uri": "https://localhost:8080/"
        },
        "outputId": "24f6c18c-c072-42c6-c22c-bc9b04ba6db6"
      },
      "source": [
        "dataset = tf.data.Dataset.zip({\"x\": x, \"y\": y}).batch(2)\n",
        "\n",
        "for data in dataset.take(5):\n",
        "    print('x: {}, y: {}'.format(data['x'], data['y']))"
      ],
      "execution_count": 75,
      "outputs": [
        {
          "output_type": "stream",
          "text": [
            "x: [0 1], y: [0 2]\n",
            "x: [2 3], y: [4 6]\n",
            "x: [4 5], y: [ 8 10]\n",
            "x: [6 7], y: [12 14]\n",
            "x: [8 9], y: [16 18]\n"
          ],
          "name": "stdout"
        }
      ]
    },
    {
      "cell_type": "markdown",
      "metadata": {
        "id": "RATwSS9SE6hE"
      },
      "source": [
        "9.`shuffle`：dataset資料 會被載入buffer中，並從buffer中隨機選取資料出來，取出資料產生的空位會從新的數據替補。而`buffer_size`是設定buffer大小，最好的設定是**大於**或**等於**整個dataset資料個個數。"
      ]
    },
    {
      "cell_type": "code",
      "metadata": {
        "id": "_R9L5o1HE6hE",
        "colab": {
          "base_uri": "https://localhost:8080/"
        },
        "outputId": "a774aefb-76cf-4649-a6fc-20d1c379a01d"
      },
      "source": [
        "dataset = dataset.shuffle(10)\n",
        "for data in dataset.take(5):\n",
        "    print('x: {}, y: {}'.format(data['x'], data['y']))"
      ],
      "execution_count": 74,
      "outputs": [
        {
          "output_type": "stream",
          "text": [
            "x: [6 7], y: [12 14]\n",
            "x: [2 3], y: [4 6]\n",
            "x: [4 5], y: [ 8 10]\n",
            "x: [6 7], y: [12 14]\n",
            "x: [0 1], y: [0 2]\n"
          ],
          "name": "stdout"
        }
      ]
    },
    {
      "cell_type": "markdown",
      "metadata": {
        "id": "23ZxQYrsE6hE"
      },
      "source": [
        "10.`repeat`：當dataset的資料讀取完後就讀會取不到資料，透過設定`repeat(n)`可以重複讀取dataset n次。"
      ]
    },
    {
      "cell_type": "code",
      "metadata": {
        "id": "FAl6VItyE6hF",
        "colab": {
          "base_uri": "https://localhost:8080/"
        },
        "outputId": "0c686795-ef91-497c-8b03-9d245d53300c"
      },
      "source": [
        "for data in dataset.take(10):\n",
        "    print('x: {}, y: {}'.format(data['x'], data['y']))\n",
        "\n",
        "    \n",
        "print('-' * 50)\n",
        "dataset = dataset.repeat(2)\n",
        "for data in dataset.take(10):\n",
        "    print('x: {}, y: {}'.format(data['x'], data['y']))"
      ],
      "execution_count": 73,
      "outputs": [
        {
          "output_type": "stream",
          "text": [
            "x: [6 7], y: [12 14]\n",
            "x: [4 5], y: [ 8 10]\n",
            "x: [0 1], y: [0 2]\n",
            "x: [8 9], y: [16 18]\n",
            "x: [2 3], y: [4 6]\n",
            "--------------------------------------------------\n",
            "x: [2 3], y: [4 6]\n",
            "x: [8 9], y: [16 18]\n",
            "x: [6 7], y: [12 14]\n",
            "x: [4 5], y: [ 8 10]\n",
            "x: [0 1], y: [0 2]\n",
            "x: [2 3], y: [4 6]\n",
            "x: [4 5], y: [ 8 10]\n",
            "x: [0 1], y: [0 2]\n",
            "x: [8 9], y: [16 18]\n",
            "x: [6 7], y: [12 14]\n"
          ],
          "name": "stdout"
        }
      ]
    }
  ]
}